{
 "cells": [
  {
   "cell_type": "code",
   "execution_count": 1,
   "id": "54ee12b3",
   "metadata": {},
   "outputs": [],
   "source": [
    "import pandas as pd\n",
    "import numpy as np\n",
    "import seaborn as sns\n",
    "import networkx as nx\n",
    "from pyvis.network import Network\n",
    "import matplotlib.pyplot as plt"
   ]
  },
  {
   "cell_type": "markdown",
   "id": "b98212b8",
   "metadata": {},
   "source": [
    "# taller redes y arboles \n",
    "### Juan Bohorquez\n",
    "### Pedro Ochoa"
   ]
  },
  {
   "cell_type": "code",
   "execution_count": 50,
   "id": "d2c9d7d8",
   "metadata": {},
   "outputs": [],
   "source": [
    "df_red = pd.read_csv(\"C:/Users/fabia/Downloads/Vienna subway.csv\", \n",
    "                 sep = ';',\n",
    "                )"
   ]
  },
  {
   "cell_type": "code",
   "execution_count": 51,
   "id": "b3a9e9f6",
   "metadata": {},
   "outputs": [
    {
     "data": {
      "text/html": [
       "<div>\n",
       "<style scoped>\n",
       "    .dataframe tbody tr th:only-of-type {\n",
       "        vertical-align: middle;\n",
       "    }\n",
       "\n",
       "    .dataframe tbody tr th {\n",
       "        vertical-align: top;\n",
       "    }\n",
       "\n",
       "    .dataframe thead th {\n",
       "        text-align: right;\n",
       "    }\n",
       "</style>\n",
       "<table border=\"1\" class=\"dataframe\">\n",
       "  <thead>\n",
       "    <tr style=\"text-align: right;\">\n",
       "      <th></th>\n",
       "      <th>Start</th>\n",
       "      <th>Stop</th>\n",
       "      <th>Line</th>\n",
       "      <th>Color</th>\n",
       "    </tr>\n",
       "  </thead>\n",
       "  <tbody>\n",
       "    <tr>\n",
       "      <th>0</th>\n",
       "      <td>Oberlaa</td>\n",
       "      <td>Neulaa</td>\n",
       "      <td>1</td>\n",
       "      <td>red</td>\n",
       "    </tr>\n",
       "    <tr>\n",
       "      <th>1</th>\n",
       "      <td>Neulaa</td>\n",
       "      <td>Alaudagasse</td>\n",
       "      <td>1</td>\n",
       "      <td>red</td>\n",
       "    </tr>\n",
       "    <tr>\n",
       "      <th>2</th>\n",
       "      <td>Alaudagasse</td>\n",
       "      <td>Altes Landgut</td>\n",
       "      <td>1</td>\n",
       "      <td>red</td>\n",
       "    </tr>\n",
       "    <tr>\n",
       "      <th>3</th>\n",
       "      <td>Altes Landgut</td>\n",
       "      <td>Troststrasse</td>\n",
       "      <td>1</td>\n",
       "      <td>red</td>\n",
       "    </tr>\n",
       "    <tr>\n",
       "      <th>4</th>\n",
       "      <td>Troststrasse</td>\n",
       "      <td>Reumannplatz</td>\n",
       "      <td>1</td>\n",
       "      <td>red</td>\n",
       "    </tr>\n",
       "    <tr>\n",
       "      <th>...</th>\n",
       "      <td>...</td>\n",
       "      <td>...</td>\n",
       "      <td>...</td>\n",
       "      <td>...</td>\n",
       "    </tr>\n",
       "    <tr>\n",
       "      <th>99</th>\n",
       "      <td>Spittelau</td>\n",
       "      <td>Jaegerstrasse</td>\n",
       "      <td>6</td>\n",
       "      <td>brown</td>\n",
       "    </tr>\n",
       "    <tr>\n",
       "      <th>100</th>\n",
       "      <td>Jaegerstrasse</td>\n",
       "      <td>Dresdner strasse</td>\n",
       "      <td>6</td>\n",
       "      <td>brown</td>\n",
       "    </tr>\n",
       "    <tr>\n",
       "      <th>101</th>\n",
       "      <td>Dresdner strasse</td>\n",
       "      <td>Handelskai</td>\n",
       "      <td>6</td>\n",
       "      <td>brown</td>\n",
       "    </tr>\n",
       "    <tr>\n",
       "      <th>102</th>\n",
       "      <td>Handelskai</td>\n",
       "      <td>Neue Donau</td>\n",
       "      <td>6</td>\n",
       "      <td>brown</td>\n",
       "    </tr>\n",
       "    <tr>\n",
       "      <th>103</th>\n",
       "      <td>Neue Donau</td>\n",
       "      <td>Floridsdorf</td>\n",
       "      <td>6</td>\n",
       "      <td>brown</td>\n",
       "    </tr>\n",
       "  </tbody>\n",
       "</table>\n",
       "<p>104 rows × 4 columns</p>\n",
       "</div>"
      ],
      "text/plain": [
       "                Start              Stop  Line  Color\n",
       "0             Oberlaa            Neulaa     1    red\n",
       "1              Neulaa       Alaudagasse     1    red\n",
       "2         Alaudagasse     Altes Landgut     1    red\n",
       "3       Altes Landgut      Troststrasse     1    red\n",
       "4        Troststrasse      Reumannplatz     1    red\n",
       "..                ...               ...   ...    ...\n",
       "99          Spittelau     Jaegerstrasse     6  brown\n",
       "100     Jaegerstrasse  Dresdner strasse     6  brown\n",
       "101  Dresdner strasse        Handelskai     6  brown\n",
       "102        Handelskai        Neue Donau     6  brown\n",
       "103        Neue Donau       Floridsdorf     6  brown\n",
       "\n",
       "[104 rows x 4 columns]"
      ]
     },
     "execution_count": 51,
     "metadata": {},
     "output_type": "execute_result"
    }
   ],
   "source": [
    "df_red"
   ]
  },
  {
   "cell_type": "code",
   "execution_count": 52,
   "id": "42eeba69",
   "metadata": {},
   "outputs": [],
   "source": [
    "sources = df_red['Start']\n",
    "targets = df_red['Stop']\n",
    "weights = df_red['Line']\n",
    "\n",
    "df_net = Network(height='400px', \n",
    "                  width='400px', \n",
    "                  notebook = True)\n",
    "\n",
    "edge_data = zip(sources, targets, weights)"
   ]
  },
  {
   "cell_type": "code",
   "execution_count": 53,
   "id": "93606467",
   "metadata": {},
   "outputs": [
    {
     "data": {
      "text/html": [
       "\n",
       "        <iframe\n",
       "            width=\"400px\"\n",
       "            height=\"400px\"\n",
       "            src=\"df_net.html\"\n",
       "            frameborder=\"0\"\n",
       "            allowfullscreen\n",
       "            \n",
       "        ></iframe>\n",
       "        "
      ],
      "text/plain": [
       "<IPython.lib.display.IFrame at 0x1e2dcb9a370>"
      ]
     },
     "execution_count": 53,
     "metadata": {},
     "output_type": "execute_result"
    }
   ],
   "source": [
    "for e in edge_data:\n",
    "    src = e[0]\n",
    "    dst = e[1]\n",
    "    w = e[2]\n",
    "\n",
    "    df_net.add_node(src, src, title=src)\n",
    "    df_net.add_node(dst, dst, title=dst)\n",
    "    df_net.add_edge(src, dst, value=w)\n",
    "\n",
    "neighbor_map = df_net.get_adj_list()\n",
    "\n",
    "for node in df_net.nodes:\n",
    "    node['title'] += ' Neighbors:<br>' + '<br>'.join(neighbor_map[node['id']])\n",
    "    node['value'] = len(neighbor_map[node['id']])\n",
    "\n",
    "df_net.show('df_net.html')"
   ]
  },
  {
   "cell_type": "markdown",
   "id": "ccc473a6",
   "metadata": {},
   "source": [
    "# Introducción \n",
    "Se escogio una base de datos, la cual muestra donde empieza y donde hace parada cada una de las lineas del metro de Vienna subway network.  \n",
    "link: https://www.kaggle.com/datasets/lenapiter/vienna-subway-network"
   ]
  },
  {
   "cell_type": "markdown",
   "id": "8e12f215",
   "metadata": {},
   "source": [
    "# ¿Qué?\n",
    "    Tipos de datos: Redes. \n",
    "    Tipos de dataset y datos: Redes: Nodos, Links, Atributos. \n",
    "    Disponibilidad de los datos: Estatica. \n",
    "    Tipos de atributos: Categoricos. "
   ]
  },
  {
   "cell_type": "markdown",
   "id": "cde1d1a5",
   "metadata": {},
   "source": [
    "# ¿Por qué?\n",
    "    Analizar:\n",
    "        Consumo: Descubrir, Presentar.\n",
    "        Producir: Recorrer, Derivar. \n",
    "    Bucar: Navegar: Ubicacion conocida y un objetivo no conocido.\n",
    "    Consulta: Resumir, Identificar. \n",
    "    Todos los Datos: Objetivo de identificar caracteristicas.  \n",
    "    Red de Datos: Caminos, topologia. "
   ]
  },
  {
   "cell_type": "markdown",
   "id": "e04a2872",
   "metadata": {},
   "source": [
    "# ¿Cómo?\n",
    "    Areglar: ordenar.\n",
    "    Color: Saturacion.\n",
    "    Forma: Tamaño. \n",
    "    Manipular: Cambiar, Seleccionar, Navegar. "
   ]
  },
  {
   "cell_type": "markdown",
   "id": "a831d159",
   "metadata": {},
   "source": [
    "# Marcas y Canales \n",
    "    Marcas:\n",
    "        Lineas, Puntos y Areas. \n",
    "    Canales: Color: saturacion. Forma: Tamaño."
   ]
  },
  {
   "cell_type": "markdown",
   "id": "8ce52f8d",
   "metadata": {},
   "source": [
    "#  Cumple o no cumple alguna de las reglas generales descritas\n",
    "    En el caso de la lineas, permite visualizar las conexiones de cada uno de los datos. \n",
    "    En la saturacion del color, ya que nos permite visualizar a  que linea de metro se refiere, para este caso si es: 1, 2, 3, 4, 6.\n",
    "    El tamaño de los circulos se debe a que tan concurrido es esa estacion en su momento y cuales son sus conexiones. \n",
    "    La interactividad: Nos permite visualizar los vecindarios de cada estacion, ademas de acercarse y ver los caminos y la topologia adecuadamente.  "
   ]
  },
  {
   "cell_type": "markdown",
   "id": "7e9c5c9c",
   "metadata": {},
   "source": [
    "#  Mejoras posibles, en cuánto a marcas o canales, que le realizaría a la visualización\n",
    "    Una mejora es la aplicar un color, ya que nos permite visualizar de mejor manera a que linea de metro representa que de manera con la satuuracion del color. "
   ]
  }
 ],
 "metadata": {
  "kernelspec": {
   "display_name": "Python 3 (ipykernel)",
   "language": "python",
   "name": "python3"
  },
  "language_info": {
   "codemirror_mode": {
    "name": "ipython",
    "version": 3
   },
   "file_extension": ".py",
   "mimetype": "text/x-python",
   "name": "python",
   "nbconvert_exporter": "python",
   "pygments_lexer": "ipython3",
   "version": "3.9.7"
  }
 },
 "nbformat": 4,
 "nbformat_minor": 5
}
